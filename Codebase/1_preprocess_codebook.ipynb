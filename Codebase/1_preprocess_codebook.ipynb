{
 "cells": [
  {
   "cell_type": "code",
   "execution_count": 1,
   "metadata": {},
   "outputs": [],
   "source": [
    "from collections import defaultdict\n",
    "from bs4 import BeautifulSoup\n",
    "\n",
    "version = 11\n",
    "\n",
    "codebook_file = f'ESS{version}/ESS{version} codebook.html'\n",
    "\n",
    "with open(codebook_file, 'r', encoding='utf-8') as file:\n",
    "    soup = BeautifulSoup(file, 'html.parser')"
   ]
  },
  {
   "cell_type": "code",
   "execution_count": 2,
   "metadata": {},
   "outputs": [],
   "source": [
    "included_variables_with_scale = {'polintr': 'u',\n",
    " 'psppsgva': 'u',\n",
    " 'actrolga': 'u',\n",
    " 'psppipla': 'u',\n",
    " 'cptppola': 'u',\n",
    " 'trstprl': 'u',\n",
    " 'trstlgl': 'u',\n",
    " 'trstplc': 'u',\n",
    " 'trstplt': 'u',\n",
    " 'trstprt': 'u',\n",
    " 'trstep': 'u',\n",
    " 'trstun': 'u',\n",
    " 'contplt': 'bi',\n",
    " 'donprty': 'bi',\n",
    " 'badge': 'bi',\n",
    " 'sgnptit': 'bi',\n",
    " 'pbldmna': 'bi',\n",
    " 'bctprd': 'bi',\n",
    " 'pstplonl': 'bi',\n",
    " 'volunfp': 'bi',\n",
    " 'clsprty': 'bi',\n",
    " 'lrscale': 'bi',\n",
    " 'stflife': 'bi',\n",
    " 'stfeco': 'bi',\n",
    " 'stfgov': 'bi',\n",
    " 'stfdem': 'bi',\n",
    " 'stfedu': 'bi',\n",
    " 'stfhlth': 'bi',\n",
    " 'gincdif': 'bi',\n",
    " 'freehms': 'bi',\n",
    " 'hmsfmlsh': 'bi',\n",
    " 'hmsacld': 'bi',\n",
    " 'euftf': 'bi',\n",
    " 'lrnobed': 'bi',\n",
    " 'loylead': 'bi',\n",
    " 'imsmetn': 'bi',\n",
    " 'imdfetn': 'bi',\n",
    " 'impcntr': 'bi',\n",
    " 'imbgeco': 'bi',\n",
    " 'imueclt': 'bi',\n",
    " 'imwbcnt': 'bi'}"
   ]
  },
  {
   "cell_type": "code",
   "execution_count": 3,
   "metadata": {},
   "outputs": [],
   "source": [
    "country_dict = {}\n",
    "for row in soup.find('h3', id='cntry').find_parent('div').find_all('tr'):\n",
    "    tds = row.find_all('td')\n",
    "    if len(tds) == 2:\n",
    "        country_dict[tds[0].text.strip()] = tds[1].text.strip()"
   ]
  },
  {
   "cell_type": "code",
   "execution_count": 4,
   "metadata": {},
   "outputs": [],
   "source": [
    "def extract_question(div_element):\n",
    "    divs = div_element.find('p').find_all('div')\n",
    "    return divs[len(divs)>1].text.strip()"
   ]
  },
  {
   "cell_type": "code",
   "execution_count": 5,
   "metadata": {},
   "outputs": [],
   "source": [
    "def extract_values(div_element):\n",
    "    rows = div_element.find('tbody').find_all('tr')\n",
    "    values = []\n",
    "    categories = []\n",
    "    for r in rows:\n",
    "        tds = r.find_all(\"td\")\n",
    "        if not tds[1].text.strip().endswith('*'):\n",
    "            values.append(int(tds[0].text.strip()))\n",
    "            categories.append(tds[1].text.strip())\n",
    "    return values, categories"
   ]
  },
  {
   "cell_type": "code",
   "execution_count": 6,
   "metadata": {},
   "outputs": [],
   "source": [
    "codebook = defaultdict(dict)\n",
    "for variable in included_variables_with_scale.keys():\n",
    "    div_element = soup.find('h3', id=variable).find_parent('div')\n",
    "    \n",
    "    question = extract_question(div_element)\n",
    "    values, categories = extract_values(div_element)\n",
    "\n",
    "    codebook[variable][\"question\"] = question\n",
    "    codebook[variable][\"values\"] = values\n",
    "    codebook[variable][\"categories\"] = categories\n",
    "    codebook[variable][\"scale_type\"] = included_variables_with_scale[variable]\n",
    "    "
   ]
  },
  {
   "cell_type": "code",
   "execution_count": 7,
   "metadata": {},
   "outputs": [],
   "source": [
    "country_dict = {}\n",
    "for row in soup.find('h3', id='cntry').find_parent('div').find_all('tr'):\n",
    "    tds = row.find_all('td')\n",
    "    if len(tds) == 2:\n",
    "        country_dict[tds[0].text.strip()] = tds[1].text.strip()"
   ]
  },
  {
   "cell_type": "code",
   "execution_count": 8,
   "metadata": {},
   "outputs": [],
   "source": [
    "import json\n",
    "\n",
    "with open(\"codebook.json\", \"w\") as json_file:\n",
    "    json.dump(codebook, json_file, indent=4)\n",
    "\n",
    "with open(\"country.json\", \"w\") as json_file:\n",
    "    json.dump(country_dict, json_file, indent=4)"
   ]
  }
 ],
 "metadata": {
  "kernelspec": {
   "display_name": ".bth",
   "language": "python",
   "name": "python3"
  },
  "language_info": {
   "codemirror_mode": {
    "name": "ipython",
    "version": 3
   },
   "file_extension": ".py",
   "mimetype": "text/x-python",
   "name": "python",
   "nbconvert_exporter": "python",
   "pygments_lexer": "ipython3",
   "version": "3.10.13"
  }
 },
 "nbformat": 4,
 "nbformat_minor": 2
}
