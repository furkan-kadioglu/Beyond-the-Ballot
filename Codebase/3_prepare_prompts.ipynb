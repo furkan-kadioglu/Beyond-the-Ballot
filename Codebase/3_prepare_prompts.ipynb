{
 "cells": [
  {
   "cell_type": "code",
   "execution_count": 1,
   "metadata": {},
   "outputs": [],
   "source": [
    "import json\n",
    "from collections import defaultdict"
   ]
  },
  {
   "cell_type": "code",
   "execution_count": 2,
   "metadata": {},
   "outputs": [],
   "source": [
    "with open(\"codebook.json\", \"r\") as codebook_file:\n",
    "    codebook = json.load(codebook_file)\n",
    "\n",
    "with open(\"country.json\", \"r\") as country_file:\n",
    "    countries = json.load(country_file)"
   ]
  },
  {
   "cell_type": "code",
   "execution_count": 3,
   "metadata": {},
   "outputs": [],
   "source": [
    "def render_prompt(question, answer):\n",
    "    return f\"Create a statement using the given question <{question}> and its answer <{answer}>. Ensure that the response is purely a statement without bias and remains at the syntactic level. The statement should sound like it is coming directly from the respondent.\""
   ]
  },
  {
   "cell_type": "code",
   "execution_count": 4,
   "metadata": {},
   "outputs": [],
   "source": [
    "def list_of_prompts(question, pivot_response):\n",
    "    prompts = []\n",
    "    for answer in [pivot_response, \"Refusal\", \"Don't know\", \"No answer\"]:\n",
    "        prompts.append(render_prompt(question, answer))\n",
    "\n",
    "    return prompts"
   ]
  },
  {
   "cell_type": "code",
   "execution_count": 5,
   "metadata": {},
   "outputs": [],
   "source": [
    "prompts = defaultdict(dict)\n",
    "for variable in codebook.keys():\n",
    "\n",
    "    pivot_response = codebook[variable]['categories'][-1]\n",
    "    question = codebook[variable]['question']\n",
    "    answers = [pivot_response, \"Refusal\", \"Don't know\", \"No answer\"]\n",
    "\n",
    "    prompts[variable] = f\"Create statements using the given question <{question}> and its answers <{pivot_response}>, <Refusal>, <Don't know>, and <No answer>. Ensure that the response is purely statements without bias and remains at the syntactic level. The statements should sound like it is coming directly from the respondent. Separate statements with |\"\n",
    "        \n"
   ]
  },
  {
   "cell_type": "code",
   "execution_count": 6,
   "metadata": {},
   "outputs": [],
   "source": [
    "with open(\"prompts.json\", \"w\") as prompt_file:\n",
    "    json.dump(prompts, prompt_file, indent=4)"
   ]
  },
  {
   "cell_type": "code",
   "execution_count": null,
   "metadata": {},
   "outputs": [],
   "source": [
    "\n"
   ]
  }
 ],
 "metadata": {
  "kernelspec": {
   "display_name": ".bth",
   "language": "python",
   "name": "python3"
  },
  "language_info": {
   "codemirror_mode": {
    "name": "ipython",
    "version": 3
   },
   "file_extension": ".py",
   "mimetype": "text/x-python",
   "name": "python",
   "nbconvert_exporter": "python",
   "pygments_lexer": "ipython3",
   "version": "3.10.13"
  }
 },
 "nbformat": 4,
 "nbformat_minor": 2
}
