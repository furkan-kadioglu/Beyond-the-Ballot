{
 "cells": [
  {
   "cell_type": "code",
   "execution_count": 28,
   "metadata": {},
   "outputs": [],
   "source": [
    "import json\n",
    "import numpy as np\n",
    "import pickle"
   ]
  },
  {
   "cell_type": "code",
   "execution_count": 29,
   "metadata": {},
   "outputs": [],
   "source": [
    "with open(\"codebook.json\", \"r\") as codebook_file:\n",
    "    codebook = json.load(codebook_file)\n",
    "    \n",
    "with open('participants.pkl', 'rb') as f:\n",
    "    participants = pickle.load(f)"
   ]
  },
  {
   "cell_type": "code",
   "execution_count": null,
   "metadata": {},
   "outputs": [],
   "source": [
    "target_variables = ['trstprl', 'badge', 'lrscale']"
   ]
  },
  {
   "cell_type": "code",
   "execution_count": 31,
   "metadata": {},
   "outputs": [],
   "source": [
    "def get_intervals(array, num_of_choices, cutoff=40):\n",
    "    lower_bound = np.percentile(array, cutoff/2)\n",
    "    upper_bound = np.percentile(array, 100-(cutoff/2))\n",
    "    step_size = (upper_bound - lower_bound) / num_of_choices\n",
    "    intervals = [lower_bound + i * step_size for i in range(num_of_choices + 1)]\n",
    "    return intervals\n"
   ]
  },
  {
   "cell_type": "code",
   "execution_count": 32,
   "metadata": {},
   "outputs": [],
   "source": [
    "def find_interval(value, intervals, choices):\n",
    "    if value <= intervals[0]:\n",
    "        return choices[0]\n",
    "    \n",
    "    if value >= intervals[-1]:\n",
    "        return choices[-1]\n",
    "    \n",
    "    for i in range(len(intervals) - 1):\n",
    "        if intervals[i] <= value < intervals[i + 1]:\n",
    "            return choices[i]\n"
   ]
  },
  {
   "cell_type": "code",
   "execution_count": 33,
   "metadata": {},
   "outputs": [],
   "source": [
    "distributions = {\n",
    "    t: np.array([\n",
    "        participants[p][\"projections\"][t]\n",
    "        for p in participants.keys()\n",
    "    ]) \n",
    "    for t in target_variables\n",
    "}"
   ]
  },
  {
   "cell_type": "code",
   "execution_count": 34,
   "metadata": {},
   "outputs": [],
   "source": [
    "for t in target_variables:\n",
    "    choices = codebook[t]['values']\n",
    "    intervals = get_intervals(distributions[t], len(choices), 0)\n",
    "\n",
    "    for p in participants.keys():\n",
    "        participants[p]['predictions'][t] = find_interval(participants[p]['projections'][t], intervals, choices)"
   ]
  },
  {
   "cell_type": "code",
   "execution_count": 35,
   "metadata": {},
   "outputs": [],
   "source": [
    "all_predictions = {}\n",
    "for t in target_variables:\n",
    "    predictions = []\n",
    "    golds = []\n",
    "    for p in participants:\n",
    "        if participants[p]['gold'][t] not in [77, 88, 99]:\n",
    "            predictions.append(\n",
    "                participants[p]['predictions'][t]\n",
    "            )\n",
    "            golds.append(\n",
    "                int(participants[p]['gold'][t])\n",
    "            )\n",
    "    all_predictions[t] = (golds, predictions)\n",
    "    "
   ]
  },
  {
   "cell_type": "code",
   "execution_count": 36,
   "metadata": {},
   "outputs": [],
   "source": [
    "with open('participants.pkl', 'wb') as f:\n",
    "    pickle.dump(participants, f, protocol=pickle.HIGHEST_PROTOCOL)\n",
    "\n",
    "with open('all_predictions.pkl', 'wb') as f:\n",
    "    pickle.dump(all_predictions, f, protocol=pickle.HIGHEST_PROTOCOL)"
   ]
  }
 ],
 "metadata": {
  "kernelspec": {
   "display_name": ".bth",
   "language": "python",
   "name": "python3"
  },
  "language_info": {
   "codemirror_mode": {
    "name": "ipython",
    "version": 3
   },
   "file_extension": ".py",
   "mimetype": "text/x-python",
   "name": "python",
   "nbconvert_exporter": "python",
   "pygments_lexer": "ipython3",
   "version": "3.10.13"
  }
 },
 "nbformat": 4,
 "nbformat_minor": 2
}
