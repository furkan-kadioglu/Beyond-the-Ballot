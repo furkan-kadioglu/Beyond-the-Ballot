{
 "cells": [
  {
   "cell_type": "code",
   "execution_count": 25,
   "metadata": {},
   "outputs": [],
   "source": [
    "import pandas as pd\n",
    "import pickle"
   ]
  },
  {
   "cell_type": "code",
   "execution_count": 26,
   "metadata": {},
   "outputs": [],
   "source": [
    "with open('vectors.pkl', 'rb') as f:\n",
    "    vectors = pickle.load(f)\n",
    "\n",
    "whole_df = pd.read_csv('preprocessed_data.csv')\n",
    "whole_df.set_index('id', inplace=True)\n",
    "\n",
    "non_normalized_df = pd.read_csv('non_normalized_data.csv')\n",
    "non_normalized_df.set_index('id', inplace=True)"
   ]
  },
  {
   "cell_type": "code",
   "execution_count": null,
   "metadata": {},
   "outputs": [],
   "source": [
    "target_variables = ['trstprl', 'badge', 'lrscale']"
   ]
  },
  {
   "cell_type": "code",
   "execution_count": 28,
   "metadata": {},
   "outputs": [],
   "source": [
    "def drop_missing_values(df):\n",
    "    return df[~df.isin([77, 88, 99]).any(axis=1)]\n",
    "\n",
    "whole_df = drop_missing_values(whole_df)\n",
    "non_normalized_df = drop_missing_values(non_normalized_df)"
   ]
  },
  {
   "cell_type": "code",
   "execution_count": 29,
   "metadata": {},
   "outputs": [],
   "source": [
    "df = whole_df[whole_df.columns.difference(target_variables)]"
   ]
  },
  {
   "cell_type": "code",
   "execution_count": 30,
   "metadata": {},
   "outputs": [],
   "source": [
    "def process_row(row):\n",
    "    country_code = row.name[:2]\n",
    "    row_vector = 0\n",
    "\n",
    "    for col, value in row.items():\n",
    "        if value==77:\n",
    "            row_vector += vectors[col][country_code][1]\n",
    "        elif value==88:\n",
    "            row_vector += vectors[col][country_code][2]\n",
    "        elif value==99:\n",
    "            row_vector += vectors[col][country_code][3]\n",
    "        else:\n",
    "            row_vector += value * vectors[col][country_code][0]\n",
    "\n",
    "    return row_vector"
   ]
  },
  {
   "cell_type": "code",
   "execution_count": 31,
   "metadata": {},
   "outputs": [],
   "source": [
    "participants = df.apply(lambda x: process_row(x), axis=1).to_dict()\n",
    "participants = {\n",
    "    p: {'embedding': v, 'projections':{}, 'predictions':{}, 'gold':{}} for p, v in participants.items()\n",
    "}"
   ]
  },
  {
   "cell_type": "code",
   "execution_count": 32,
   "metadata": {},
   "outputs": [],
   "source": [
    "with open('participants.pkl', 'wb') as f:\n",
    "    pickle.dump(participants, f, protocol=pickle.HIGHEST_PROTOCOL)"
   ]
  }
 ],
 "metadata": {
  "kernelspec": {
   "display_name": ".bth",
   "language": "python",
   "name": "python3"
  },
  "language_info": {
   "codemirror_mode": {
    "name": "ipython",
    "version": 3
   },
   "file_extension": ".py",
   "mimetype": "text/x-python",
   "name": "python",
   "nbconvert_exporter": "python",
   "pygments_lexer": "ipython3",
   "version": "3.10.13"
  }
 },
 "nbformat": 4,
 "nbformat_minor": 2
}
