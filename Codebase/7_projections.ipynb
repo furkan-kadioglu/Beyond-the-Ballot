{
 "cells": [
  {
   "cell_type": "code",
   "execution_count": 19,
   "metadata": {},
   "outputs": [],
   "source": [
    "import numpy as np\n",
    "import pandas as pd\n",
    "import pickle\n",
    "from collections import defaultdict"
   ]
  },
  {
   "cell_type": "code",
   "execution_count": 20,
   "metadata": {},
   "outputs": [],
   "source": [
    "with open('vectors.pkl', 'rb') as f:\n",
    "    vectors = pickle.load(f)\n",
    "\n",
    "with open('participants.pkl', 'rb') as f:\n",
    "    participants = pickle.load(f)\n",
    "\n",
    "non_normalized_df = pd.read_csv('non_normalized_data.csv')\n",
    "non_normalized_df.set_index('id', inplace=True)\n",
    "\n"
   ]
  },
  {
   "cell_type": "code",
   "execution_count": null,
   "metadata": {},
   "outputs": [],
   "source": [
    "target_variables = ['trstprl', 'badge', 'lrscale']"
   ]
  },
  {
   "cell_type": "code",
   "execution_count": 22,
   "metadata": {},
   "outputs": [],
   "source": [
    "distributions = defaultdict(list)\n",
    "\n",
    "for target in target_variables:\n",
    "    for participant, values in participants.items():\n",
    "        country = participant[:2]\n",
    "        target_vector = vectors[target][country][0]\n",
    "\n",
    "        length_of_projection = (\n",
    "            np.dot(target_vector, values[\"embedding\"]) / \n",
    "            np.linalg.norm(values[\"embedding\"])\n",
    "        )\n",
    "\n",
    "        distributions[target].append(length_of_projection)\n",
    "\n",
    "        participants[participant][\"projections\"][target] = length_of_projection\n",
    "        participants[participant]['gold'][target] = non_normalized_df.loc[participant][target]"
   ]
  },
  {
   "cell_type": "code",
   "execution_count": 23,
   "metadata": {},
   "outputs": [],
   "source": [
    "with open('participants.pkl', 'wb') as f:\n",
    "    pickle.dump(participants, f, protocol=pickle.HIGHEST_PROTOCOL)"
   ]
  },
  {
   "cell_type": "code",
   "execution_count": 24,
   "metadata": {},
   "outputs": [
    {
     "data": {
      "text/plain": [
       "{'embedding': array([-0.21315262,  0.91547424, -6.5207605 , ..., -1.4187113 ,\n",
       "        -6.169573  , -4.8296366 ], dtype=float32),\n",
       " 'projections': {'pstplonl': np.float32(0.5723483),\n",
       "  'volunfp': np.float32(0.5419409),\n",
       "  'clsprty': np.float32(0.6308053)},\n",
       " 'predictions': {},\n",
       " 'gold': {'pstplonl': np.int64(2),\n",
       "  'volunfp': np.int64(2),\n",
       "  'clsprty': np.int64(1)}}"
      ]
     },
     "execution_count": 24,
     "metadata": {},
     "output_type": "execute_result"
    }
   ],
   "source": [
    "participants['AT_50014']"
   ]
  },
  {
   "cell_type": "code",
   "execution_count": null,
   "metadata": {},
   "outputs": [],
   "source": []
  }
 ],
 "metadata": {
  "kernelspec": {
   "display_name": ".bth",
   "language": "python",
   "name": "python3"
  },
  "language_info": {
   "codemirror_mode": {
    "name": "ipython",
    "version": 3
   },
   "file_extension": ".py",
   "mimetype": "text/x-python",
   "name": "python",
   "nbconvert_exporter": "python",
   "pygments_lexer": "ipython3",
   "version": "3.10.13"
  }
 },
 "nbformat": 4,
 "nbformat_minor": 2
}
